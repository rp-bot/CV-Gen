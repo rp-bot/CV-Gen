{
 "cells": [
  {
   "cell_type": "code",
   "execution_count": 4,
   "metadata": {},
   "outputs": [],
   "source": [
    "from docxtpl import DocxTemplate"
   ]
  },
  {
   "cell_type": "code",
   "execution_count": 11,
   "metadata": {},
   "outputs": [],
   "source": [
    "doc = DocxTemplate(\"./templates/resume_template_basic.docx\")\n",
    "context = { 'name' : \"Pratham Vadhulas\" , 'position' : \"intern\"}"
   ]
  },
  {
   "cell_type": "code",
   "execution_count": 12,
   "metadata": {},
   "outputs": [],
   "source": [
    "doc.render(context)\n",
    "doc.save(\"generated_doc.docx\")"
   ]
  },
  {
   "cell_type": "code",
   "execution_count": 1,
   "metadata": {},
   "outputs": [
    {
     "name": "stdout",
     "output_type": "stream",
     "text": [
      "['/home/rpbot/.local/share/virtualenvs/cv_generator-qyTzaE54/lib/python3.8/site-packages/ipykernel_launcher.py', '--ip=127.0.0.1', '--stdin=9003', '--control=9001', '--hb=9000', '--Session.signature_scheme=\"hmac-sha256\"', '--Session.key=b\"fea7f5b8-479e-4539-b7bd-2b66133e33e9\"', '--shell=9002', '--transport=\"tcp\"', '--iopub=9004', '--f=/tmp/tmp-44284cpPD583ccDqD.json']\n"
     ]
    }
   ],
   "source": [
    "import sys\n",
    "print(sys.argv)"
   ]
  }
 ],
 "metadata": {
  "interpreter": {
   "hash": "74aec60d7e4c3428657b3c1f18195fc966c817740040fb9ff79fc5b20b660ab4"
  },
  "kernelspec": {
   "display_name": "Python 3.8.12 ('cv_generator-qyTzaE54')",
   "language": "python",
   "name": "python3"
  },
  "language_info": {
   "codemirror_mode": {
    "name": "ipython",
    "version": 3
   },
   "file_extension": ".py",
   "mimetype": "text/x-python",
   "name": "python",
   "nbconvert_exporter": "python",
   "pygments_lexer": "ipython3",
   "version": "3.8.12"
  },
  "orig_nbformat": 4
 },
 "nbformat": 4,
 "nbformat_minor": 2
}
