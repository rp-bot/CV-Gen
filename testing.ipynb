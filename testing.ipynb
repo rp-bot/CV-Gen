{
 "cells": [
  {
   "cell_type": "code",
   "execution_count": 89,
   "metadata": {},
   "outputs": [],
   "source": [
    "from docxtpl import DocxTemplate\n",
    "import json"
   ]
  },
  {
   "cell_type": "code",
   "execution_count": 90,
   "metadata": {},
   "outputs": [],
   "source": [
    "doc = DocxTemplate(\"./templates/resume_template_basic.docx\")\n",
    "with open('base_context.json', \"r\") as f:\n",
    "    context = json.load(f)"
   ]
  },
  {
   "cell_type": "code",
   "execution_count": 91,
   "metadata": {},
   "outputs": [],
   "source": [
    "doc.render(context)\n",
    "doc.save(\"generated_doc.docx\")"
   ]
  }
 ],
 "metadata": {
  "interpreter": {
   "hash": "74aec60d7e4c3428657b3c1f18195fc966c817740040fb9ff79fc5b20b660ab4"
  },
  "kernelspec": {
   "display_name": "Python 3.8.12 ('cv_generator-qyTzaE54')",
   "language": "python",
   "name": "python3"
  },
  "language_info": {
   "codemirror_mode": {
    "name": "ipython",
    "version": 3
   },
   "file_extension": ".py",
   "mimetype": "text/x-python",
   "name": "python",
   "nbconvert_exporter": "python",
   "pygments_lexer": "ipython3",
   "version": "3.8.12"
  },
  "orig_nbformat": 4
 },
 "nbformat": 4,
 "nbformat_minor": 2
}
